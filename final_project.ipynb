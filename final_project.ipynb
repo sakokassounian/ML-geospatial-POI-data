{
 "cells": [
  {
   "cell_type": "markdown",
   "metadata": {},
   "source": [
    "# Using Folium, DBSCAN, and Foursquare for spatial analysis"
   ]
  },
  {
   "cell_type": "markdown",
   "metadata": {},
   "source": [
    "## Table of contents\n",
    "* [Introduction: Business Problem](#introduction)\n",
    "* [Data](#data)\n",
    "* [Libraries](#libraries)\n",
    "* [Methodology](#methodology)\n",
    "* [Analysis](#analysis)\n",
    "* [Results and Discussion](#results)\n",
    "* [Conclusion](#conclusion)"
   ]
  },
  {
   "cell_type": "markdown",
   "metadata": {},
   "source": [
    "\n",
    "\n",
    "## Introduction: Business Problem <a name=\"introduction\"></a>"
   ]
  },
  {
   "cell_type": "markdown",
   "metadata": {},
   "source": [
    "Whenever a stakeholder would like to do an investment and open a new venue (restaurant, hotel, etc ...) in a city,  he should know the competition he will be going against in that new region. It is very important to understand how is the status of the neighbourhoods and how they are viewed by the public in general; are they luxurious and satisfying the needs of the customers. \n",
    "\n",
    "\n",
    "So analyzing the venues in a city is very important to understand whether if a specific region is a hot spot and is a competitive one, and if different venue owners are working hard to satisfy the customers, maintain loyalty, and good fame, as a result becoming more successful in time.An initial comprehensive view of the market is important for new people who are planning to enter the market and open a new business. \n",
    "\n",
    "On the other hand, it is important to know if venue owners in specific regions are not caring that much thus about their businesses as a result becoming touristically undermined. One more question arises here, that what if there are venues who are so famous that they are not affected by their surrounding based on the type of service or commodities that they offer. This is also a point to be investigated for a new \"business owner to be\". Also if the new investor would open a new venue near another famous ones, he should expect a very strong challenge and a fierce competetion, at the same time our new venue investor would expect a lot of new intrigued customers whom their loyalty could be won.\n",
    "\n",
    "So our goal is understanding undesrtanding how venues are rated and if there is a sort of a pattern or clustering within regions or neighbourhoods in terms of distance and quality of service.  As a result, the satkeholder gets a generic idea about the clusters of venues in the region it becomes easier to make a descion of where to start his new business. "
   ]
  },
  {
   "cell_type": "markdown",
   "metadata": {},
   "source": [
    "## Data <a name=\"data\"></a>"
   ]
  },
  {
   "cell_type": "markdown",
   "metadata": {},
   "source": [
    "It is clear that our project is a 3D dimensional spatial analysis/qualitative analysis. Hence based on definition of our problem, factors that will influence of the stakeholder are are:\n",
    "\n",
    "* The rating of the venue\n",
    "* The number of venues having close rated values and creating clusters\n",
    "* Distance of venues to one another\n",
    "* Outlier within a cluster\n",
    "* The density of each cluster and how many venues exist in it\n",
    "\n",
    "\n",
    "The following data sources will be needed to extract/generate the required information:\n",
    "* Name of a specific city to search arround\n",
    "* radius of search arround the city\n",
    "* limit of number of avaialable venues in total \n",
    "* latitude, longitude, id of the venues using **Foursquare API** \n",
    "* The rating of each venue **Foursquare API** of the associated id of venue. Note that gathering the ratings is a premium data for this API in case one would require a lot of data. I have used a paid version to download the data and there is a csv file to be uplaoded.\n"
   ]
  },
  {
   "cell_type": "markdown",
   "metadata": {},
   "source": [
    "## Libraries <a name=\"libraries\"></a>"
   ]
  },
  {
   "cell_type": "markdown",
   "metadata": {},
   "source": [
    "In this section, I will import all the required libraries which will be required for analysis"
   ]
  },
  {
   "cell_type": "code",
   "execution_count": 100,
   "metadata": {},
   "outputs": [],
   "source": [
    "import requests # library to handle requests\n",
    "import pandas as pd # library for data analsysis\n",
    "import numpy as np # library to handle data in a vectorized manner\n",
    "import folium\n",
    "from geopy.geocoders import Nominatim # module to convert an address into latitude and longitude values\n",
    "import branca.colormap as cm\n",
    "from sklearn.cluster import DBSCAN\n",
    "from sklearn.preprocessing import StandardScaler\n",
    "import matplotlib.cm as cm\n",
    "import matplotlib.colors as colors\n",
    "import matplotlib.pyplot as plt"
   ]
  },
  {
   "cell_type": "markdown",
   "metadata": {},
   "source": [
    "## Methodology <a name=\"methodology\"></a>"
   ]
  },
  {
   "cell_type": "markdown",
   "metadata": {},
   "source": [
    "### Get coordinates of the city of interest\n",
    "We will start my trying to find the location of New York using **geopy** "
   ]
  },
  {
   "cell_type": "code",
   "execution_count": 4,
   "metadata": {},
   "outputs": [
    {
     "data": {
      "text/plain": [
       "(40.7127281, -74.0060152)"
      ]
     },
     "execution_count": 4,
     "metadata": {},
     "output_type": "execute_result"
    }
   ],
   "source": [
    "def get_lat_long(address):\n",
    "    \"\"\"We pass an address and the function returns the lat and long.\"\"\"\n",
    "    geolocator = Nominatim(user_agent=\"foursquare_agent\")\n",
    "    location = geolocator.geocode(address)\n",
    "\n",
    "    lat = location.latitude\n",
    "    lon= location.longitude\n",
    "    return lat,lon\n",
    "\n",
    "lat_1,long_1=get_lat_long('New York, NY')\n",
    "lat_1,long_1"
   ]
  },
  {
   "cell_type": "markdown",
   "metadata": {},
   "source": [
    "### Exploring and gathering the venues within the New york\n",
    "Using Foursquare we will explore the region. At this point it is important to set the radius and the number of venues you want to limit your self to. Sometimes since the radius is small you might end up with fewer than the limit. The function below get latitude, longitude, limiting number of venues, and search radius, and return a dataframe of the venues found. Another function also is added which gets the category of each venue later to be used for visualization."
   ]
  },
  {
   "cell_type": "code",
   "execution_count": 5,
   "metadata": {},
   "outputs": [],
   "source": [
    "limit=200 #limit of venues\n",
    "rad=1000 #radius of search "
   ]
  },
  {
   "cell_type": "code",
   "execution_count": 6,
   "metadata": {},
   "outputs": [],
   "source": [
    "# function that extracts the category of the venue\n",
    "def get_category_type(row):\n",
    "    \"\"\"We pass an address and the function venue catagory.\"\"\"\n",
    "\n",
    "    try:\n",
    "        categories_list = row['categories']\n",
    "    except:\n",
    "        categories_list = row['venue.categories']\n",
    "        \n",
    "    if len(categories_list) == 0:\n",
    "        return None\n",
    "    else:\n",
    "        return categories_list[0]['name']\n",
    "\n",
    "#function that gathers the venues\n",
    "def explore_venue_df(latitude,longitude,LIMIT,radius):    \n",
    "    #Foursquare info\n",
    "    CLIENT_ID = 'XQ3QLGBS5Y3AXPLCS3AAG5D42N0C2MMOICTYDRGO0M3RWO0E' # your Foursquare ID\n",
    "    CLIENT_SECRET = 'KHUVD2AXXLHF0UOA34RV2OJSSUNIHRAQKZRMLZMI1G53CXLT' # your Foursquare Secret\n",
    "    VERSION = '20180604'\n",
    "    \n",
    "    #url to send get request \n",
    "    url = 'https://api.foursquare.com/v2/venues/explore?client_id={}&client_secret={}&ll={},{}&v={}&radius={}&limit={}'.format(CLIENT_ID, CLIENT_SECRET, latitude, longitude, VERSION, radius, LIMIT)\n",
    "    results = requests.get(url).json()\n",
    "    items = results['response']['groups'][0]['items']\n",
    "\n",
    "    dataframe = pd.json_normalize(items) # flatten JSON\n",
    "\n",
    "    # filter columns\n",
    "    filtered_columns = ['venue.name', 'venue.categories'] + [col for col in dataframe.columns if col.startswith('venue.location.')] + ['venue.id']\n",
    "    dataframe_filtered = dataframe.loc[:, filtered_columns]\n",
    "\n",
    "    # filter the category for each row\n",
    "    dataframe_filtered['venue.categories'] = dataframe_filtered.apply(get_category_type, axis=1)\n",
    "    \n",
    "    # clean columns\n",
    "    dataframe_filtered.columns = [col.split('.')[-1] for col in dataframe_filtered.columns]\n",
    "    \n",
    "    return dataframe_filtered\n",
    "\n",
    "\n",
    "venues_df=explore_venue_df(lat_1,long_1,200,1000)\n"
   ]
  },
  {
   "cell_type": "code",
   "execution_count": 7,
   "metadata": {},
   "outputs": [
    {
     "name": "stdout",
     "output_type": "stream",
     "text": [
      "we have 100 venues retrieved\n"
     ]
    }
   ],
   "source": [
    "print(\"we have %s venues retrieved\"%venues_df.shape[0])\n"
   ]
  },
  {
   "cell_type": "code",
   "execution_count": 110,
   "metadata": {},
   "outputs": [
    {
     "data": {
      "text/html": [
       "<div>\n",
       "<style scoped>\n",
       "    .dataframe tbody tr th:only-of-type {\n",
       "        vertical-align: middle;\n",
       "    }\n",
       "\n",
       "    .dataframe tbody tr th {\n",
       "        vertical-align: top;\n",
       "    }\n",
       "\n",
       "    .dataframe thead th {\n",
       "        text-align: right;\n",
       "    }\n",
       "</style>\n",
       "<table border=\"1\" class=\"dataframe\">\n",
       "  <thead>\n",
       "    <tr style=\"text-align: right;\">\n",
       "      <th></th>\n",
       "      <th>name</th>\n",
       "      <th>categories</th>\n",
       "      <th>id</th>\n",
       "      <th>address</th>\n",
       "      <th>distance</th>\n",
       "    </tr>\n",
       "  </thead>\n",
       "  <tbody>\n",
       "    <tr>\n",
       "      <th>4</th>\n",
       "      <td>City Hall Park</td>\n",
       "      <td>Park</td>\n",
       "      <td>3fd66200f964a520d8f11ee3</td>\n",
       "      <td>17 Park Row</td>\n",
       "      <td>69</td>\n",
       "    </tr>\n",
       "    <tr>\n",
       "      <th>11</th>\n",
       "      <td>Gibney Dance Center Downtown</td>\n",
       "      <td>Dance Studio</td>\n",
       "      <td>53373f26498e940581c90985</td>\n",
       "      <td>280 Broadway</td>\n",
       "      <td>136</td>\n",
       "    </tr>\n",
       "    <tr>\n",
       "      <th>2</th>\n",
       "      <td>Alba Dry Cleaner &amp; Tailor</td>\n",
       "      <td>Laundry Service</td>\n",
       "      <td>4c606c3e1e5cd13ad1a1a1ed</td>\n",
       "      <td>140 Nassau St</td>\n",
       "      <td>145</td>\n",
       "    </tr>\n",
       "    <tr>\n",
       "      <th>0</th>\n",
       "      <td>The Bar Room at Temple Court</td>\n",
       "      <td>Hotel Bar</td>\n",
       "      <td>57f0689d498e7d49d9189369</td>\n",
       "      <td>123 Nassau St</td>\n",
       "      <td>157</td>\n",
       "    </tr>\n",
       "    <tr>\n",
       "      <th>1</th>\n",
       "      <td>The Beekman, A Thompson Hotel</td>\n",
       "      <td>Hotel</td>\n",
       "      <td>56d8c0f8498edb854f926e6a</td>\n",
       "      <td>123 Nassau St</td>\n",
       "      <td>182</td>\n",
       "    </tr>\n",
       "    <tr>\n",
       "      <th>...</th>\n",
       "      <td>...</td>\n",
       "      <td>...</td>\n",
       "      <td>...</td>\n",
       "      <td>...</td>\n",
       "      <td>...</td>\n",
       "    </tr>\n",
       "    <tr>\n",
       "      <th>95</th>\n",
       "      <td>Jungsik</td>\n",
       "      <td>Korean Restaurant</td>\n",
       "      <td>4e67f1c7d16433b90090c8f3</td>\n",
       "      <td>2 Harrison St</td>\n",
       "      <td>712</td>\n",
       "    </tr>\n",
       "    <tr>\n",
       "      <th>99</th>\n",
       "      <td>Gotan</td>\n",
       "      <td>Café</td>\n",
       "      <td>5487845b498ed6d0cef81f32</td>\n",
       "      <td>130 Franklin St</td>\n",
       "      <td>724</td>\n",
       "    </tr>\n",
       "    <tr>\n",
       "      <th>96</th>\n",
       "      <td>Pasanella &amp; Sons</td>\n",
       "      <td>Wine Shop</td>\n",
       "      <td>4b61d830f964a52088262ae3</td>\n",
       "      <td>115 South St</td>\n",
       "      <td>728</td>\n",
       "    </tr>\n",
       "    <tr>\n",
       "      <th>98</th>\n",
       "      <td>The Original Chinatown Ice Cream Factory</td>\n",
       "      <td>Ice Cream Shop</td>\n",
       "      <td>3fd66200f964a52033eb1ee3</td>\n",
       "      <td>65 Bayard St</td>\n",
       "      <td>733</td>\n",
       "    </tr>\n",
       "    <tr>\n",
       "      <th>90</th>\n",
       "      <td>Crown Shy</td>\n",
       "      <td>Restaurant</td>\n",
       "      <td>5c883f65f4b525002c0bf2ca</td>\n",
       "      <td>70 Pine St</td>\n",
       "      <td>738</td>\n",
       "    </tr>\n",
       "  </tbody>\n",
       "</table>\n",
       "<p>100 rows × 5 columns</p>\n",
       "</div>"
      ],
      "text/plain": [
       "                                        name         categories  \\\n",
       "4                             City Hall Park               Park   \n",
       "11              Gibney Dance Center Downtown       Dance Studio   \n",
       "2                  Alba Dry Cleaner & Tailor    Laundry Service   \n",
       "0               The Bar Room at Temple Court          Hotel Bar   \n",
       "1              The Beekman, A Thompson Hotel              Hotel   \n",
       "..                                       ...                ...   \n",
       "95                                   Jungsik  Korean Restaurant   \n",
       "99                                     Gotan               Café   \n",
       "96                          Pasanella & Sons          Wine Shop   \n",
       "98  The Original Chinatown Ice Cream Factory     Ice Cream Shop   \n",
       "90                                 Crown Shy         Restaurant   \n",
       "\n",
       "                          id          address  distance  \n",
       "4   3fd66200f964a520d8f11ee3      17 Park Row        69  \n",
       "11  53373f26498e940581c90985     280 Broadway       136  \n",
       "2   4c606c3e1e5cd13ad1a1a1ed    140 Nassau St       145  \n",
       "0   57f0689d498e7d49d9189369    123 Nassau St       157  \n",
       "1   56d8c0f8498edb854f926e6a    123 Nassau St       182  \n",
       "..                       ...              ...       ...  \n",
       "95  4e67f1c7d16433b90090c8f3    2 Harrison St       712  \n",
       "99  5487845b498ed6d0cef81f32  130 Franklin St       724  \n",
       "96  4b61d830f964a52088262ae3     115 South St       728  \n",
       "98  3fd66200f964a52033eb1ee3     65 Bayard St       733  \n",
       "90  5c883f65f4b525002c0bf2ca       70 Pine St       738  \n",
       "\n",
       "[100 rows x 5 columns]"
      ]
     },
     "execution_count": 110,
     "metadata": {},
     "output_type": "execute_result"
    }
   ],
   "source": [
    "#Lets visualize the name,category, venue id, and address\n",
    "venues_df[['name','categories','id','address','distance']].sort_values(by='distance')"
   ]
  },
  {
   "cell_type": "markdown",
   "metadata": {},
   "source": [
    "### Gathering the ratings of each venue\n",
    "Using Foursquare we will explore each venue and get its rating. At this point it is important to gather the values. Below you can see the function that takes the id of a venue previosly created and return the ratings. "
   ]
  },
  {
   "cell_type": "code",
   "execution_count": 9,
   "metadata": {},
   "outputs": [],
   "source": [
    "def get_venue_rating(venue_id_list):       \n",
    "    #Foursquare info\n",
    "    CLIENT_ID = 'LASR5Z0AWM0PVB0EB01CJLYQYNLCBSCI2IPXD5UHPBX1LWUN' # your Foursquare ID\n",
    "    CLIENT_SECRET = 'GDD0NSZ4A05ZPNHBC0T41TS1ICORB4QGTZKL24PI5GUGJZLB' # your Foursquare Secret\n",
    "    VERSION = '20180604'\n",
    "    ratings_list=[]\n",
    "    \n",
    "    for venue_id in venue_id_list:\n",
    "        url = 'https://api.foursquare.com/v2/venues/{}?client_id={}&client_secret={}&v={}'.format(venue_id, CLIENT_ID, CLIENT_SECRET, VERSION)\n",
    "        results = requests.get(url).json()\n",
    "        \n",
    "        try:\n",
    "            ratings_list.append(results['response']['venue']['rating'])\n",
    "        except:\n",
    "            ratings_list.append(np.nan)\n",
    "\n",
    "    return ratings_list\n"
   ]
  },
  {
   "cell_type": "code",
   "execution_count": 11,
   "metadata": {},
   "outputs": [],
   "source": [
    "venues_df['ratings']=get_venue_rating(venues_df.id)"
   ]
  },
  {
   "cell_type": "markdown",
   "metadata": {},
   "source": [
    "### Note: not always free\n",
    "Now that we gathered the ratings our data is ready for analysis. Since gathering venue rating is a special request and a limited quota exists for each user, I have gathered the ratings using my paid version. Try using your own client id and secret and see how it works."
   ]
  },
  {
   "cell_type": "code",
   "execution_count": 12,
   "metadata": {},
   "outputs": [
    {
     "data": {
      "text/html": [
       "<div>\n",
       "<style scoped>\n",
       "    .dataframe tbody tr th:only-of-type {\n",
       "        vertical-align: middle;\n",
       "    }\n",
       "\n",
       "    .dataframe tbody tr th {\n",
       "        vertical-align: top;\n",
       "    }\n",
       "\n",
       "    .dataframe thead th {\n",
       "        text-align: right;\n",
       "    }\n",
       "</style>\n",
       "<table border=\"1\" class=\"dataframe\">\n",
       "  <thead>\n",
       "    <tr style=\"text-align: right;\">\n",
       "      <th></th>\n",
       "      <th>name</th>\n",
       "      <th>ratings</th>\n",
       "      <th>lat</th>\n",
       "      <th>lng</th>\n",
       "      <th>categories</th>\n",
       "    </tr>\n",
       "  </thead>\n",
       "  <tbody>\n",
       "    <tr>\n",
       "      <th>0</th>\n",
       "      <td>The Bar Room at Temple Court</td>\n",
       "      <td>9.3</td>\n",
       "      <td>40.711448</td>\n",
       "      <td>-74.006802</td>\n",
       "      <td>Hotel Bar</td>\n",
       "    </tr>\n",
       "    <tr>\n",
       "      <th>1</th>\n",
       "      <td>The Beekman, A Thompson Hotel</td>\n",
       "      <td>9.1</td>\n",
       "      <td>40.711173</td>\n",
       "      <td>-74.006702</td>\n",
       "      <td>Hotel</td>\n",
       "    </tr>\n",
       "    <tr>\n",
       "      <th>2</th>\n",
       "      <td>Alba Dry Cleaner &amp; Tailor</td>\n",
       "      <td>9.1</td>\n",
       "      <td>40.711434</td>\n",
       "      <td>-74.006272</td>\n",
       "      <td>Laundry Service</td>\n",
       "    </tr>\n",
       "    <tr>\n",
       "      <th>3</th>\n",
       "      <td>City Hall Park</td>\n",
       "      <td>8.9</td>\n",
       "      <td>40.712415</td>\n",
       "      <td>-74.006724</td>\n",
       "      <td>Park</td>\n",
       "    </tr>\n",
       "    <tr>\n",
       "      <th>4</th>\n",
       "      <td>The Wooly Daily</td>\n",
       "      <td>9.0</td>\n",
       "      <td>40.712137</td>\n",
       "      <td>-74.008395</td>\n",
       "      <td>Coffee Shop</td>\n",
       "    </tr>\n",
       "    <tr>\n",
       "      <th>...</th>\n",
       "      <td>...</td>\n",
       "      <td>...</td>\n",
       "      <td>...</td>\n",
       "      <td>...</td>\n",
       "      <td>...</td>\n",
       "    </tr>\n",
       "    <tr>\n",
       "      <th>95</th>\n",
       "      <td>Pasanella &amp; Sons</td>\n",
       "      <td>NaN</td>\n",
       "      <td>40.707107</td>\n",
       "      <td>-74.001602</td>\n",
       "      <td>Wine Shop</td>\n",
       "    </tr>\n",
       "    <tr>\n",
       "      <th>96</th>\n",
       "      <td>SoulCycle TriBeCa</td>\n",
       "      <td>NaN</td>\n",
       "      <td>40.716178</td>\n",
       "      <td>-74.013007</td>\n",
       "      <td>Cycle Studio</td>\n",
       "    </tr>\n",
       "    <tr>\n",
       "      <th>97</th>\n",
       "      <td>Jungsik</td>\n",
       "      <td>NaN</td>\n",
       "      <td>40.718695</td>\n",
       "      <td>-74.009070</td>\n",
       "      <td>Korean Restaurant</td>\n",
       "    </tr>\n",
       "    <tr>\n",
       "      <th>98</th>\n",
       "      <td>Lyons Den Power Yoga</td>\n",
       "      <td>NaN</td>\n",
       "      <td>40.718872</td>\n",
       "      <td>-74.004989</td>\n",
       "      <td>Yoga Studio</td>\n",
       "    </tr>\n",
       "    <tr>\n",
       "      <th>99</th>\n",
       "      <td>Gotan</td>\n",
       "      <td>NaN</td>\n",
       "      <td>40.719217</td>\n",
       "      <td>-74.006642</td>\n",
       "      <td>Café</td>\n",
       "    </tr>\n",
       "  </tbody>\n",
       "</table>\n",
       "<p>100 rows × 5 columns</p>\n",
       "</div>"
      ],
      "text/plain": [
       "                             name  ratings        lat        lng  \\\n",
       "0    The Bar Room at Temple Court      9.3  40.711448 -74.006802   \n",
       "1   The Beekman, A Thompson Hotel      9.1  40.711173 -74.006702   \n",
       "2       Alba Dry Cleaner & Tailor      9.1  40.711434 -74.006272   \n",
       "3                  City Hall Park      8.9  40.712415 -74.006724   \n",
       "4                 The Wooly Daily      9.0  40.712137 -74.008395   \n",
       "..                            ...      ...        ...        ...   \n",
       "95               Pasanella & Sons      NaN  40.707107 -74.001602   \n",
       "96              SoulCycle TriBeCa      NaN  40.716178 -74.013007   \n",
       "97                        Jungsik      NaN  40.718695 -74.009070   \n",
       "98           Lyons Den Power Yoga      NaN  40.718872 -74.004989   \n",
       "99                          Gotan      NaN  40.719217 -74.006642   \n",
       "\n",
       "           categories  \n",
       "0           Hotel Bar  \n",
       "1               Hotel  \n",
       "2     Laundry Service  \n",
       "3                Park  \n",
       "4         Coffee Shop  \n",
       "..                ...  \n",
       "95          Wine Shop  \n",
       "96       Cycle Studio  \n",
       "97  Korean Restaurant  \n",
       "98        Yoga Studio  \n",
       "99               Café  \n",
       "\n",
       "[100 rows x 5 columns]"
      ]
     },
     "execution_count": 12,
     "metadata": {},
     "output_type": "execute_result"
    }
   ],
   "source": [
    "venues_df[['name','ratings','lat','lng','categories']]"
   ]
  },
  {
   "cell_type": "code",
   "execution_count": 14,
   "metadata": {},
   "outputs": [
    {
     "data": {
      "text/html": [
       "<div>\n",
       "<style scoped>\n",
       "    .dataframe tbody tr th:only-of-type {\n",
       "        vertical-align: middle;\n",
       "    }\n",
       "\n",
       "    .dataframe tbody tr th {\n",
       "        vertical-align: top;\n",
       "    }\n",
       "\n",
       "    .dataframe thead th {\n",
       "        text-align: right;\n",
       "    }\n",
       "</style>\n",
       "<table border=\"1\" class=\"dataframe\">\n",
       "  <thead>\n",
       "    <tr style=\"text-align: right;\">\n",
       "      <th></th>\n",
       "      <th>name</th>\n",
       "      <th>ratings</th>\n",
       "      <th>lat</th>\n",
       "      <th>lng</th>\n",
       "      <th>categories</th>\n",
       "    </tr>\n",
       "  </thead>\n",
       "  <tbody>\n",
       "    <tr>\n",
       "      <th>0</th>\n",
       "      <td>The Bar Room at Temple Court</td>\n",
       "      <td>9.3</td>\n",
       "      <td>40.711448</td>\n",
       "      <td>-74.006802</td>\n",
       "      <td>Hotel Bar</td>\n",
       "    </tr>\n",
       "    <tr>\n",
       "      <th>1</th>\n",
       "      <td>The Beekman, A Thompson Hotel</td>\n",
       "      <td>9.1</td>\n",
       "      <td>40.711172</td>\n",
       "      <td>-74.006702</td>\n",
       "      <td>Hotel</td>\n",
       "    </tr>\n",
       "    <tr>\n",
       "      <th>2</th>\n",
       "      <td>Alba Dry Cleaner &amp; Tailor</td>\n",
       "      <td>9.1</td>\n",
       "      <td>40.711434</td>\n",
       "      <td>-74.006272</td>\n",
       "      <td>Laundry Service</td>\n",
       "    </tr>\n",
       "    <tr>\n",
       "      <th>3</th>\n",
       "      <td>The Wooly Daily</td>\n",
       "      <td>9.0</td>\n",
       "      <td>40.712137</td>\n",
       "      <td>-74.008395</td>\n",
       "      <td>Coffee Shop</td>\n",
       "    </tr>\n",
       "    <tr>\n",
       "      <th>4</th>\n",
       "      <td>City Hall Park</td>\n",
       "      <td>8.9</td>\n",
       "      <td>40.712415</td>\n",
       "      <td>-74.006724</td>\n",
       "      <td>Park</td>\n",
       "    </tr>\n",
       "    <tr>\n",
       "      <th>...</th>\n",
       "      <td>...</td>\n",
       "      <td>...</td>\n",
       "      <td>...</td>\n",
       "      <td>...</td>\n",
       "      <td>...</td>\n",
       "    </tr>\n",
       "    <tr>\n",
       "      <th>95</th>\n",
       "      <td>Jungsik</td>\n",
       "      <td>8.9</td>\n",
       "      <td>40.718695</td>\n",
       "      <td>-74.009070</td>\n",
       "      <td>Korean Restaurant</td>\n",
       "    </tr>\n",
       "    <tr>\n",
       "      <th>96</th>\n",
       "      <td>Pasanella &amp; Sons</td>\n",
       "      <td>9.0</td>\n",
       "      <td>40.707107</td>\n",
       "      <td>-74.001602</td>\n",
       "      <td>Wine Shop</td>\n",
       "    </tr>\n",
       "    <tr>\n",
       "      <th>97</th>\n",
       "      <td>Lyons Den Power Yoga</td>\n",
       "      <td>8.7</td>\n",
       "      <td>40.718872</td>\n",
       "      <td>-74.004989</td>\n",
       "      <td>Yoga Studio</td>\n",
       "    </tr>\n",
       "    <tr>\n",
       "      <th>98</th>\n",
       "      <td>The Original Chinatown Ice Cream Factory</td>\n",
       "      <td>9.0</td>\n",
       "      <td>40.715521</td>\n",
       "      <td>-73.998145</td>\n",
       "      <td>Ice Cream Shop</td>\n",
       "    </tr>\n",
       "    <tr>\n",
       "      <th>99</th>\n",
       "      <td>Gotan</td>\n",
       "      <td>8.9</td>\n",
       "      <td>40.719217</td>\n",
       "      <td>-74.006642</td>\n",
       "      <td>Café</td>\n",
       "    </tr>\n",
       "  </tbody>\n",
       "</table>\n",
       "<p>100 rows × 5 columns</p>\n",
       "</div>"
      ],
      "text/plain": [
       "                                        name  ratings        lat        lng  \\\n",
       "0               The Bar Room at Temple Court      9.3  40.711448 -74.006802   \n",
       "1              The Beekman, A Thompson Hotel      9.1  40.711172 -74.006702   \n",
       "2                  Alba Dry Cleaner & Tailor      9.1  40.711434 -74.006272   \n",
       "3                            The Wooly Daily      9.0  40.712137 -74.008395   \n",
       "4                             City Hall Park      8.9  40.712415 -74.006724   \n",
       "..                                       ...      ...        ...        ...   \n",
       "95                                   Jungsik      8.9  40.718695 -74.009070   \n",
       "96                          Pasanella & Sons      9.0  40.707107 -74.001602   \n",
       "97                      Lyons Den Power Yoga      8.7  40.718872 -74.004989   \n",
       "98  The Original Chinatown Ice Cream Factory      9.0  40.715521 -73.998145   \n",
       "99                                     Gotan      8.9  40.719217 -74.006642   \n",
       "\n",
       "           categories  \n",
       "0           Hotel Bar  \n",
       "1               Hotel  \n",
       "2     Laundry Service  \n",
       "3         Coffee Shop  \n",
       "4                Park  \n",
       "..                ...  \n",
       "95  Korean Restaurant  \n",
       "96          Wine Shop  \n",
       "97        Yoga Studio  \n",
       "98     Ice Cream Shop  \n",
       "99               Café  \n",
       "\n",
       "[100 rows x 5 columns]"
      ]
     },
     "execution_count": 14,
     "metadata": {},
     "output_type": "execute_result"
    }
   ],
   "source": [
    "venue_df_new=pd.read_csv(\"new_york.csv\")\n",
    "venue_df_new[['name','ratings','lat','lng','categories']]\n"
   ]
  },
  {
   "cell_type": "markdown",
   "metadata": {},
   "source": [
    "You can see how the data is similar and complete"
   ]
  },
  {
   "cell_type": "markdown",
   "metadata": {},
   "source": [
    "### Clustering using DBSCAN"
   ]
  },
  {
   "cell_type": "markdown",
   "metadata": {},
   "source": [
    "To analyze each region, we will cluster the venues using the latitude, longitude, and rating. As a result one would realize how the venues are close to each other and how similar the ratings are. This will give us a strong idea about each region and how tough the competition is."
   ]
  },
  {
   "cell_type": "markdown",
   "metadata": {},
   "source": [
    "For applying our clustering, we will be using DBSCAN (density based spatial clustering with application of noise). As you can see from it's name it clusters groups with similar characteristics and closeness and shows the outlier who do not belong to the group. This will be a good indicator to see if there are special cases and venues which have randomly opened. Also the outlier even would be indicator for the influence of the venues.  "
   ]
  },
  {
   "cell_type": "markdown",
   "metadata": {},
   "source": [
    "### Analysis"
   ]
  },
  {
   "cell_type": "code",
   "execution_count": 15,
   "metadata": {},
   "outputs": [],
   "source": [
    "def dbscan_df(dataframe,features,epsilon=0.3,samples=5,vis=False):\n",
    "    \"\"\"We the features and a dataframe.\"\"\"     \n",
    "    df=dataframe.copy()\n",
    "    df=df[features]\n",
    "\n",
    "    X=np.array(df)\n",
    "    X = StandardScaler().fit_transform(X)\n",
    "    db = DBSCAN(eps=epsilon, min_samples=samples).fit(X)\n",
    "    \n",
    "    if vis:\n",
    "        df.plot(kind='scatter',x='lng',y='lat',c='labels',cmap='jet')\n",
    "        plt.show()\n",
    "\n",
    "    return db.labels_   "
   ]
  },
  {
   "cell_type": "markdown",
   "metadata": {},
   "source": [
    "The function above does 3 steps:\n",
    "* Applies standardization to the data\n",
    "* Applies clustering based on the 0.7 epsilon(distance) and minimum number of venue sample which is 4. The 4 was the most logical number is in an urban city you might have stores on you right, left, back and front. One can test with different values but I got satisfactory results for this values\n",
    "* Based on the clustering return a class from 0 to N (labels). Note that a -1 is an outlier"
   ]
  },
  {
   "cell_type": "code",
   "execution_count": 16,
   "metadata": {},
   "outputs": [
    {
     "data": {
      "text/html": [
       "<div>\n",
       "<style scoped>\n",
       "    .dataframe tbody tr th:only-of-type {\n",
       "        vertical-align: middle;\n",
       "    }\n",
       "\n",
       "    .dataframe tbody tr th {\n",
       "        vertical-align: top;\n",
       "    }\n",
       "\n",
       "    .dataframe thead th {\n",
       "        text-align: right;\n",
       "    }\n",
       "</style>\n",
       "<table border=\"1\" class=\"dataframe\">\n",
       "  <thead>\n",
       "    <tr style=\"text-align: right;\">\n",
       "      <th></th>\n",
       "      <th>name</th>\n",
       "      <th>ratings</th>\n",
       "      <th>lat</th>\n",
       "      <th>lng</th>\n",
       "      <th>categories</th>\n",
       "      <th>labels</th>\n",
       "    </tr>\n",
       "  </thead>\n",
       "  <tbody>\n",
       "    <tr>\n",
       "      <th>0</th>\n",
       "      <td>The Bar Room at Temple Court</td>\n",
       "      <td>9.3</td>\n",
       "      <td>40.711448</td>\n",
       "      <td>-74.006802</td>\n",
       "      <td>Hotel Bar</td>\n",
       "      <td>0</td>\n",
       "    </tr>\n",
       "    <tr>\n",
       "      <th>1</th>\n",
       "      <td>The Beekman, A Thompson Hotel</td>\n",
       "      <td>9.1</td>\n",
       "      <td>40.711172</td>\n",
       "      <td>-74.006702</td>\n",
       "      <td>Hotel</td>\n",
       "      <td>0</td>\n",
       "    </tr>\n",
       "    <tr>\n",
       "      <th>2</th>\n",
       "      <td>Alba Dry Cleaner &amp; Tailor</td>\n",
       "      <td>9.1</td>\n",
       "      <td>40.711434</td>\n",
       "      <td>-74.006272</td>\n",
       "      <td>Laundry Service</td>\n",
       "      <td>0</td>\n",
       "    </tr>\n",
       "    <tr>\n",
       "      <th>3</th>\n",
       "      <td>The Wooly Daily</td>\n",
       "      <td>9.0</td>\n",
       "      <td>40.712137</td>\n",
       "      <td>-74.008395</td>\n",
       "      <td>Coffee Shop</td>\n",
       "      <td>0</td>\n",
       "    </tr>\n",
       "    <tr>\n",
       "      <th>4</th>\n",
       "      <td>City Hall Park</td>\n",
       "      <td>8.9</td>\n",
       "      <td>40.712415</td>\n",
       "      <td>-74.006724</td>\n",
       "      <td>Park</td>\n",
       "      <td>0</td>\n",
       "    </tr>\n",
       "    <tr>\n",
       "      <th>...</th>\n",
       "      <td>...</td>\n",
       "      <td>...</td>\n",
       "      <td>...</td>\n",
       "      <td>...</td>\n",
       "      <td>...</td>\n",
       "      <td>...</td>\n",
       "    </tr>\n",
       "    <tr>\n",
       "      <th>95</th>\n",
       "      <td>Jungsik</td>\n",
       "      <td>8.9</td>\n",
       "      <td>40.718695</td>\n",
       "      <td>-74.009070</td>\n",
       "      <td>Korean Restaurant</td>\n",
       "      <td>1</td>\n",
       "    </tr>\n",
       "    <tr>\n",
       "      <th>96</th>\n",
       "      <td>Pasanella &amp; Sons</td>\n",
       "      <td>9.0</td>\n",
       "      <td>40.707107</td>\n",
       "      <td>-74.001602</td>\n",
       "      <td>Wine Shop</td>\n",
       "      <td>-1</td>\n",
       "    </tr>\n",
       "    <tr>\n",
       "      <th>97</th>\n",
       "      <td>Lyons Den Power Yoga</td>\n",
       "      <td>8.7</td>\n",
       "      <td>40.718872</td>\n",
       "      <td>-74.004989</td>\n",
       "      <td>Yoga Studio</td>\n",
       "      <td>1</td>\n",
       "    </tr>\n",
       "    <tr>\n",
       "      <th>98</th>\n",
       "      <td>The Original Chinatown Ice Cream Factory</td>\n",
       "      <td>9.0</td>\n",
       "      <td>40.715521</td>\n",
       "      <td>-73.998145</td>\n",
       "      <td>Ice Cream Shop</td>\n",
       "      <td>-1</td>\n",
       "    </tr>\n",
       "    <tr>\n",
       "      <th>99</th>\n",
       "      <td>Gotan</td>\n",
       "      <td>8.9</td>\n",
       "      <td>40.719217</td>\n",
       "      <td>-74.006642</td>\n",
       "      <td>Café</td>\n",
       "      <td>1</td>\n",
       "    </tr>\n",
       "  </tbody>\n",
       "</table>\n",
       "<p>100 rows × 6 columns</p>\n",
       "</div>"
      ],
      "text/plain": [
       "                                        name  ratings        lat        lng  \\\n",
       "0               The Bar Room at Temple Court      9.3  40.711448 -74.006802   \n",
       "1              The Beekman, A Thompson Hotel      9.1  40.711172 -74.006702   \n",
       "2                  Alba Dry Cleaner & Tailor      9.1  40.711434 -74.006272   \n",
       "3                            The Wooly Daily      9.0  40.712137 -74.008395   \n",
       "4                             City Hall Park      8.9  40.712415 -74.006724   \n",
       "..                                       ...      ...        ...        ...   \n",
       "95                                   Jungsik      8.9  40.718695 -74.009070   \n",
       "96                          Pasanella & Sons      9.0  40.707107 -74.001602   \n",
       "97                      Lyons Den Power Yoga      8.7  40.718872 -74.004989   \n",
       "98  The Original Chinatown Ice Cream Factory      9.0  40.715521 -73.998145   \n",
       "99                                     Gotan      8.9  40.719217 -74.006642   \n",
       "\n",
       "           categories  labels  \n",
       "0           Hotel Bar       0  \n",
       "1               Hotel       0  \n",
       "2     Laundry Service       0  \n",
       "3         Coffee Shop       0  \n",
       "4                Park       0  \n",
       "..                ...     ...  \n",
       "95  Korean Restaurant       1  \n",
       "96          Wine Shop      -1  \n",
       "97        Yoga Studio       1  \n",
       "98     Ice Cream Shop      -1  \n",
       "99               Café       1  \n",
       "\n",
       "[100 rows x 6 columns]"
      ]
     },
     "execution_count": 16,
     "metadata": {},
     "output_type": "execute_result"
    }
   ],
   "source": [
    "venue_df_new['labels']=dbscan_df(venue_df_new,features=['lat','lng','ratings'],epsilon=0.7,samples=4)\n",
    "venues_df=venue_df_new.copy()\n",
    "venues_df[['name','ratings','lat','lng','categories','labels']]"
   ]
  },
  {
   "cell_type": "markdown",
   "metadata": {},
   "source": [
    "### Cluster performance\n",
    "\n",
    "Let's apply some additional analysis to cluster performance. Let's count the clusters. This can give a better idea of how the data is centeralized. "
   ]
  },
  {
   "cell_type": "code",
   "execution_count": 101,
   "metadata": {},
   "outputs": [
    {
     "data": {
      "text/html": [
       "<div>\n",
       "<style scoped>\n",
       "    .dataframe tbody tr th:only-of-type {\n",
       "        vertical-align: middle;\n",
       "    }\n",
       "\n",
       "    .dataframe tbody tr th {\n",
       "        vertical-align: top;\n",
       "    }\n",
       "\n",
       "    .dataframe thead th {\n",
       "        text-align: right;\n",
       "    }\n",
       "</style>\n",
       "<table border=\"1\" class=\"dataframe\">\n",
       "  <thead>\n",
       "    <tr style=\"text-align: right;\">\n",
       "      <th></th>\n",
       "      <th>labels</th>\n",
       "    </tr>\n",
       "  </thead>\n",
       "  <tbody>\n",
       "    <tr>\n",
       "      <th>1</th>\n",
       "      <td>35</td>\n",
       "    </tr>\n",
       "    <tr>\n",
       "      <th>2</th>\n",
       "      <td>21</td>\n",
       "    </tr>\n",
       "    <tr>\n",
       "      <th>-1</th>\n",
       "      <td>16</td>\n",
       "    </tr>\n",
       "    <tr>\n",
       "      <th>0</th>\n",
       "      <td>12</td>\n",
       "    </tr>\n",
       "    <tr>\n",
       "      <th>3</th>\n",
       "      <td>11</td>\n",
       "    </tr>\n",
       "    <tr>\n",
       "      <th>4</th>\n",
       "      <td>5</td>\n",
       "    </tr>\n",
       "  </tbody>\n",
       "</table>\n",
       "</div>"
      ],
      "text/plain": [
       "    labels\n",
       " 1      35\n",
       " 2      21\n",
       "-1      16\n",
       " 0      12\n",
       " 3      11\n",
       " 4       5"
      ]
     },
     "execution_count": 101,
     "metadata": {},
     "output_type": "execute_result"
    }
   ],
   "source": [
    "pd.DataFrame(venues_df.labels.value_counts())"
   ]
  },
  {
   "cell_type": "markdown",
   "metadata": {},
   "source": [
    "Let's add one more indicator to see how far each point is away from it's group value. We Normalize the data $Rating_{N_i} = \\frac{Rating_i - Rating_{min}}{Rating_{max}-Rating_{min}}$. \n",
    "\n"
   ]
  },
  {
   "cell_type": "code",
   "execution_count": 18,
   "metadata": {},
   "outputs": [],
   "source": [
    "venues_df['norm']=(venues_df.ratings - venues_df.ratings.min())/(venues_df.ratings.max() - venues_df.ratings.min())"
   ]
  },
  {
   "cell_type": "markdown",
   "metadata": {},
   "source": [
    "We also calculate the average of each group to have a general idea"
   ]
  },
  {
   "cell_type": "code",
   "execution_count": 23,
   "metadata": {},
   "outputs": [
    {
     "data": {
      "text/html": [
       "<div>\n",
       "<style scoped>\n",
       "    .dataframe tbody tr th:only-of-type {\n",
       "        vertical-align: middle;\n",
       "    }\n",
       "\n",
       "    .dataframe tbody tr th {\n",
       "        vertical-align: top;\n",
       "    }\n",
       "\n",
       "    .dataframe thead th {\n",
       "        text-align: right;\n",
       "    }\n",
       "</style>\n",
       "<table border=\"1\" class=\"dataframe\">\n",
       "  <thead>\n",
       "    <tr style=\"text-align: right;\">\n",
       "      <th></th>\n",
       "      <th>labels</th>\n",
       "      <th>ratings</th>\n",
       "      <th>norm</th>\n",
       "      <th>avg_rate</th>\n",
       "    </tr>\n",
       "  </thead>\n",
       "  <tbody>\n",
       "    <tr>\n",
       "      <th>0</th>\n",
       "      <td>0</td>\n",
       "      <td>9.3</td>\n",
       "      <td>0.857143</td>\n",
       "      <td>9.108333</td>\n",
       "    </tr>\n",
       "    <tr>\n",
       "      <th>1</th>\n",
       "      <td>0</td>\n",
       "      <td>9.1</td>\n",
       "      <td>0.714286</td>\n",
       "      <td>9.108333</td>\n",
       "    </tr>\n",
       "    <tr>\n",
       "      <th>2</th>\n",
       "      <td>0</td>\n",
       "      <td>9.1</td>\n",
       "      <td>0.714286</td>\n",
       "      <td>9.108333</td>\n",
       "    </tr>\n",
       "    <tr>\n",
       "      <th>3</th>\n",
       "      <td>0</td>\n",
       "      <td>9.0</td>\n",
       "      <td>0.642857</td>\n",
       "      <td>9.108333</td>\n",
       "    </tr>\n",
       "    <tr>\n",
       "      <th>4</th>\n",
       "      <td>0</td>\n",
       "      <td>8.9</td>\n",
       "      <td>0.571429</td>\n",
       "      <td>9.108333</td>\n",
       "    </tr>\n",
       "    <tr>\n",
       "      <th>...</th>\n",
       "      <td>...</td>\n",
       "      <td>...</td>\n",
       "      <td>...</td>\n",
       "      <td>...</td>\n",
       "    </tr>\n",
       "    <tr>\n",
       "      <th>95</th>\n",
       "      <td>1</td>\n",
       "      <td>8.9</td>\n",
       "      <td>0.571429</td>\n",
       "      <td>8.682857</td>\n",
       "    </tr>\n",
       "    <tr>\n",
       "      <th>96</th>\n",
       "      <td>-1</td>\n",
       "      <td>9.0</td>\n",
       "      <td>0.642857</td>\n",
       "      <td>8.962500</td>\n",
       "    </tr>\n",
       "    <tr>\n",
       "      <th>97</th>\n",
       "      <td>1</td>\n",
       "      <td>8.7</td>\n",
       "      <td>0.428571</td>\n",
       "      <td>8.682857</td>\n",
       "    </tr>\n",
       "    <tr>\n",
       "      <th>98</th>\n",
       "      <td>-1</td>\n",
       "      <td>9.0</td>\n",
       "      <td>0.642857</td>\n",
       "      <td>8.962500</td>\n",
       "    </tr>\n",
       "    <tr>\n",
       "      <th>99</th>\n",
       "      <td>1</td>\n",
       "      <td>8.9</td>\n",
       "      <td>0.571429</td>\n",
       "      <td>8.682857</td>\n",
       "    </tr>\n",
       "  </tbody>\n",
       "</table>\n",
       "<p>100 rows × 4 columns</p>\n",
       "</div>"
      ],
      "text/plain": [
       "    labels  ratings      norm  avg_rate\n",
       "0        0      9.3  0.857143  9.108333\n",
       "1        0      9.1  0.714286  9.108333\n",
       "2        0      9.1  0.714286  9.108333\n",
       "3        0      9.0  0.642857  9.108333\n",
       "4        0      8.9  0.571429  9.108333\n",
       "..     ...      ...       ...       ...\n",
       "95       1      8.9  0.571429  8.682857\n",
       "96      -1      9.0  0.642857  8.962500\n",
       "97       1      8.7  0.428571  8.682857\n",
       "98      -1      9.0  0.642857  8.962500\n",
       "99       1      8.9  0.571429  8.682857\n",
       "\n",
       "[100 rows x 4 columns]"
      ]
     },
     "execution_count": 23,
     "metadata": {},
     "output_type": "execute_result"
    }
   ],
   "source": [
    "means=venues_df.groupby('labels').mean()\n",
    "mapper=dict(zip(means.index, means.ratings))\n",
    "venues_df['avg_rate']=venues_df['labels'].replace(mapper)\n",
    "\n",
    "venues_df[['labels','ratings','norm','avg_rate']]"
   ]
  },
  {
   "cell_type": "markdown",
   "metadata": {},
   "source": [
    "####  As you saw above the ratings are comparatively high and close to each other so normalization give a good idea of differences. Let's visualize the results in a histogram."
   ]
  },
  {
   "cell_type": "code",
   "execution_count": 153,
   "metadata": {},
   "outputs": [
    {
     "data": {
      "image/png": "[encoded data removed]",
      "text/plain": [
       "<Figure size 576x288 with 2 Axes>"
      ]
     },
     "metadata": {
      "needs_background": "light"
     },
     "output_type": "display_data"
    }
   ],
   "source": [
    "venues_df[['ratings','norm']].hist(figsize=(8,4))\n",
    "plt.tight_layout()"
   ]
  },
  {
   "cell_type": "markdown",
   "metadata": {},
   "source": [
    "### Visualize the cluster\n",
    "Using Folium we will plot the data to have an idea of what is happening. The color code is as follows:\n",
    "* Each color indicates a class since the values are very close \n",
    "* The sizes indicates the magnitude of ratings\n",
    "* The outlier can be viewed as a darker color arround the clusters\n"
   ]
  },
  {
   "cell_type": "code",
   "execution_count": 103,
   "metadata": {},
   "outputs": [
    {
     "data": {
      "text/html": [
       "<div style=\"width:100%;\"><div style=\"position:relative;width:100%;height:0;padding-bottom:60%;\"><span style=\"color:#565656\">Make this Notebook Trusted to load map: File -> Trust Notebook</span><iframe src=\"about:blank\" style=\"position:absolute;width:100%;height:100%;left:0;top:0;border:none !important;\" data-html=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 onload=\"this.contentDocument.open();this.contentDocument.write(atob(this.getAttribute('data-html')));this.contentDocument.close();\" allowfullscreen webkitallowfullscreen mozallowfullscreen></iframe></div></div>"
      ],
      "text/plain": [
       "<folium.folium.Map at 0x7f125f92aa50>"
      ]
     },
     "execution_count": 103,
     "metadata": {},
     "output_type": "execute_result"
    }
   ],
   "source": [
    "# set color scheme for the clusters\n",
    "colors_array = cm.jet(np.linspace(0, 1, len(venues_df.labels.unique())))\n",
    "rainbow = [colors.rgb2hex(i) for i in colors_array]\n",
    "\n",
    "#codes\n",
    "colors_code={}\n",
    "for index,value in enumerate(mapper.keys()):\n",
    "    colors_code[value]= rainbow[index]\n",
    "\n",
    "\n",
    "    \n",
    "\n",
    "#create map\n",
    "venues_map = folium.Map(location=[lat_1, long_1], zoom_start=15) # generate map centred around Ecco\n",
    "\n",
    "for name,lat, lon,lbl,rating,norm,avg,cat in zip(venues_df['name'],venues_df['lat'], venues_df['lng'],venues_df['labels'],venues_df['ratings'],venues_df['norm'],venues_df['avg_rate'],venues_df['categories'],):\n",
    "    if lbl==-1: title=\"outsider - rate: %0.3f - category: %s\"%(rating,cat)\n",
    "    else: title=\"region: %s - rate: %0.3f avg_rate: %0.3f - category: %s\"%(lbl+1,rating,avg,cat) \n",
    "    \n",
    "        \n",
    "    \n",
    "    \n",
    "    label = folium.Popup(name+\"->\"+title, parse_html=True)\n",
    "    folium.CircleMarker(\n",
    "        [lat, lon],\n",
    "        radius=abs(norm*20),\n",
    "        popup=label,\n",
    "        color='black',\n",
    "        fill=True,\n",
    "        fill_color=colors_code[lbl],\n",
    "        fill_opacity=1.0).add_to(venues_map)\n",
    "    \n",
    "    \n",
    "    \n",
    "       \n",
    "# display map\n",
    "venues_map.save(outfile= \"test.html\")\n",
    "venues_map\n"
   ]
  },
  {
   "cell_type": "markdown",
   "metadata": {},
   "source": [
    "##### To have an idea about which is the best region, we can plot the labels versus average rating of the clusters and visualize the categories of the top cluster"
   ]
  },
  {
   "cell_type": "code",
   "execution_count": 118,
   "metadata": {},
   "outputs": [
    {
     "data": {
      "image/png": "[encoded data removed]",
      "text/plain": [
       "<Figure size 432x288 with 1 Axes>"
      ]
     },
     "metadata": {
      "needs_background": "light"
     },
     "output_type": "display_data"
    },
    {
     "data": {
      "text/html": [
       "<div>\n",
       "<style scoped>\n",
       "    .dataframe tbody tr th:only-of-type {\n",
       "        vertical-align: middle;\n",
       "    }\n",
       "\n",
       "    .dataframe tbody tr th {\n",
       "        vertical-align: top;\n",
       "    }\n",
       "\n",
       "    .dataframe thead th {\n",
       "        text-align: right;\n",
       "    }\n",
       "</style>\n",
       "<table border=\"1\" class=\"dataframe\">\n",
       "  <thead>\n",
       "    <tr style=\"text-align: right;\">\n",
       "      <th></th>\n",
       "      <th>categories</th>\n",
       "    </tr>\n",
       "  </thead>\n",
       "  <tbody>\n",
       "    <tr>\n",
       "      <th>Memorial Site</th>\n",
       "      <td>3</td>\n",
       "    </tr>\n",
       "    <tr>\n",
       "      <th>Auditorium</th>\n",
       "      <td>1</td>\n",
       "    </tr>\n",
       "    <tr>\n",
       "      <th>Building</th>\n",
       "      <td>1</td>\n",
       "    </tr>\n",
       "    <tr>\n",
       "      <th>Electronics Store</th>\n",
       "      <td>1</td>\n",
       "    </tr>\n",
       "    <tr>\n",
       "      <th>Plaza</th>\n",
       "      <td>1</td>\n",
       "    </tr>\n",
       "    <tr>\n",
       "      <th>Park</th>\n",
       "      <td>1</td>\n",
       "    </tr>\n",
       "    <tr>\n",
       "      <th>Coffee Shop</th>\n",
       "      <td>1</td>\n",
       "    </tr>\n",
       "    <tr>\n",
       "      <th>Scenic Lookout</th>\n",
       "      <td>1</td>\n",
       "    </tr>\n",
       "    <tr>\n",
       "      <th>Gourmet Shop</th>\n",
       "      <td>1</td>\n",
       "    </tr>\n",
       "  </tbody>\n",
       "</table>\n",
       "</div>"
      ],
      "text/plain": [
       "                   categories\n",
       "Memorial Site               3\n",
       "Auditorium                  1\n",
       "Building                    1\n",
       "Electronics Store           1\n",
       "Plaza                       1\n",
       "Park                        1\n",
       "Coffee Shop                 1\n",
       "Scenic Lookout              1\n",
       "Gourmet Shop                1"
      ]
     },
     "execution_count": 118,
     "metadata": {},
     "output_type": "execute_result"
    }
   ],
   "source": [
    "#plotting of the rates\n",
    "for i in mapper.keys():\n",
    "    plt.plot(i,mapper[i],color=colors_code[i],markersize=30,marker='o',mec='black',mew=2)\n",
    "plt.ylim((8.5,9.2))\n",
    "plt.xlabel('clusters')\n",
    "plt.ylabel('average rate of each cluster')\n",
    "plt.show()\n",
    "\n",
    "#categories of the best region\n",
    "pd.DataFrame(venues_df[venues_df.avg_rate==venues_df.avg_rate.max()]['categories'].value_counts())"
   ]
  },
  {
   "cell_type": "code",
   "execution_count": 142,
   "metadata": {},
   "outputs": [
    {
     "data": {
      "text/plain": [
       "array([[<matplotlib.axes._subplots.AxesSubplot object at 0x7f125d467610>,\n",
       "        <matplotlib.axes._subplots.AxesSubplot object at 0x7f125d424450>]],\n",
       "      dtype=object)"
      ]
     },
     "execution_count": 142,
     "metadata": {},
     "output_type": "execute_result"
    },
    {
     "data": {
      "image/png": "[encoded data removed]",
      "text/plain": [
       "<Figure size 432x288 with 2 Axes>"
      ]
     },
     "metadata": {
      "needs_background": "light"
     },
     "output_type": "display_data"
    }
   ],
   "source": [
    "venues_df[[\"ratings\",'norm']].hist()"
   ]
  },
  {
   "cell_type": "markdown",
   "metadata": {},
   "source": [
    "### The largest cluster categories"
   ]
  },
  {
   "cell_type": "code",
   "execution_count": 186,
   "metadata": {},
   "outputs": [
    {
     "data": {
      "text/html": [
       "<div>\n",
       "<style scoped>\n",
       "    .dataframe tbody tr th:only-of-type {\n",
       "        vertical-align: middle;\n",
       "    }\n",
       "\n",
       "    .dataframe tbody tr th {\n",
       "        vertical-align: top;\n",
       "    }\n",
       "\n",
       "    .dataframe thead th {\n",
       "        text-align: right;\n",
       "    }\n",
       "</style>\n",
       "<table border=\"1\" class=\"dataframe\">\n",
       "  <thead>\n",
       "    <tr style=\"text-align: right;\">\n",
       "      <th></th>\n",
       "      <th>categories</th>\n",
       "    </tr>\n",
       "  </thead>\n",
       "  <tbody>\n",
       "    <tr>\n",
       "      <th>Cocktail Bar</th>\n",
       "      <td>2</td>\n",
       "    </tr>\n",
       "    <tr>\n",
       "      <th>Gym / Fitness Center</th>\n",
       "      <td>2</td>\n",
       "    </tr>\n",
       "    <tr>\n",
       "      <th>Gym</th>\n",
       "      <td>2</td>\n",
       "    </tr>\n",
       "    <tr>\n",
       "      <th>French Restaurant</th>\n",
       "      <td>2</td>\n",
       "    </tr>\n",
       "    <tr>\n",
       "      <th>Café</th>\n",
       "      <td>2</td>\n",
       "    </tr>\n",
       "  </tbody>\n",
       "</table>\n",
       "</div>"
      ],
      "text/plain": [
       "                      categories\n",
       "Cocktail Bar                   2\n",
       "Gym / Fitness Center           2\n",
       "Gym                            2\n",
       "French Restaurant              2\n",
       "Café                           2"
      ]
     },
     "execution_count": 186,
     "metadata": {},
     "output_type": "execute_result"
    }
   ],
   "source": [
    "#categories of the best region\n",
    "maxer=venues_df.labels.value_counts().index[0]\n",
    "pd.DataFrame(venues_df[venues_df.labels==maxer]['categories'].value_counts()).head()"
   ]
  },
  {
   "cell_type": "markdown",
   "metadata": {},
   "source": [
    "## Results and Discussion <a name=\"results\"></a>"
   ]
  },
  {
   "cell_type": "markdown",
   "metadata": {},
   "source": [
    "In this project, we requested from the Foresquare API the venues and associated ratings of the city of New York within a radius of 1000 and limit of 200 venues. We recieved arround 100 venues. Since Foursquare has quota of 50 venues per day, externally the data was gathered using a paid version to ensure ratings for all the venues.\n",
    "\n",
    "In our analysis,  we have clustered these venues based on their latitude,longitude, and rating using DBSCAN.  6 clusteres were created and one is an outliers cluster. We have realized a spatial and rating wise clustering does exist where the top ratings cluster being the city center towards and its west, the worst being the south but includes some far outliers with much higher ratings. The best clusters has venues which are shops, and memorial cites, etc ... making it a great touristic hub. The largest cluster was cluster 1 and located in the North, although it had a low average rating, and checking it's categories you can see it's mainly composed of restaurants and cafe's which are common daily venues. One clusters remians which is the Eastern part of New York where we can see that the density is low based on the venue gathering radius  and there is a gap for venues from the center to that region. to further understand that region one can analyze that section. One can extract the latitude and longitude and rerun the code. What we can also see that the outliers have larger ratings compared to their clusters, as a results being special and better than those regions which a new stakeholder should realize that these sorts of places have a specific shine to them and might monopolizing the market. For example the Washington market park where it is a public park and funded by the government which makes it a well groomed site. "
   ]
  },
  {
   "cell_type": "markdown",
   "metadata": {},
   "source": [
    "## Conclusion <a name=\"conclusion\"></a>"
   ]
  },
  {
   "cell_type": "markdown",
   "metadata": {},
   "source": [
    "The purpose of this project was to analyze different parts the city of New York with a specific vicinity or radius, in order to understand the quality of of each region and detect homogenous clusters and outlier based on the ratings. This aids stakeholders to make a final descions about opening a new venue. By clustering the venues using latitide, longitude, and rating from Foursquare data, we were able to detect the clusteres within each part of the city and calculate an average rating for each cluster, as a result giving the ability to stackholders to have a generic view of the city's quality of venues and supplying them with an insight regarding the quality,luxury, and expectation of customers for each region.    \n",
    "\n",
    "\n",
    "Final decission on optimal venue location will be made by stakeholders based on specific characteristics of  taking into consideration the average rating and additional factors like attractiveness of each location (proximity to park or water), levels of noise / proximity to major roads, real estate availability, prices, social and economic dynamics of every neighborhood, etc. Not to forget the amount of capital a stakeholder would be ready invest in the new venue."
   ]
  }
 ],
 "metadata": {
  "kernelspec": {
   "display_name": "Python 3",
   "language": "python",
   "name": "python3"
  },
  "language_info": {
   "codemirror_mode": {
    "name": "ipython",
    "version": 3
   },
   "file_extension": ".py",
   "mimetype": "text/x-python",
   "name": "python",
   "nbconvert_exporter": "python",
   "pygments_lexer": "ipython3",
   "version": "3.7.6"
  }
 },
 "nbformat": 4,
 "nbformat_minor": 4
}
